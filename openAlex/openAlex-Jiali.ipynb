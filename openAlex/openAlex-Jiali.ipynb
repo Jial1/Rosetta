{
 "cells": [
  {
   "cell_type": "code",
   "execution_count": 1,
   "metadata": {},
   "outputs": [
    {
     "data": {
      "text/plain": [
       "200"
      ]
     },
     "execution_count": 1,
     "metadata": {},
     "output_type": "execute_result"
    }
   ],
   "source": [
    "import requests\n",
    "import pandas as pd\n",
    "\n",
    "response_API = requests.get('https://api.openalex.org')\n",
    "response_API.status_code # 200 means success"
   ]
  },
  {
   "cell_type": "markdown",
   "metadata": {},
   "source": [
    "## Get single entities (Works)\n",
    "\n",
    "- Get a random work entity by using the string random where an ID would normally go"
   ]
  },
  {
   "cell_type": "code",
   "execution_count": 9,
   "metadata": {},
   "outputs": [
    {
     "data": {
      "text/plain": [
       "{'id': 'https://openalex.org/W643630100',\n",
       " 'doi': None,\n",
       " 'title': '所得税の産出・分配効果--多部門分析',\n",
       " 'display_name': '所得税の産出・分配効果--多部門分析',\n",
       " 'publication_year': 1977,\n",
       " 'publication_date': '1977-07-01',\n",
       " 'ids': {'openalex': 'https://openalex.org/W643630100', 'mag': '643630100'},\n",
       " 'host_venue': {'id': 'https://openalex.org/V4306548549',\n",
       "  'issn_l': None,\n",
       "  'issn': None,\n",
       "  'display_name': '広島大学経済論叢',\n",
       "  'publisher': None,\n",
       "  'type': 'journal',\n",
       "  'url': 'http://ci.nii.ac.jp/naid/40004177303',\n",
       "  'is_oa': False,\n",
       "  'version': None,\n",
       "  'license': None},\n",
       " 'type': None,\n",
       " 'open_access': {'is_oa': False, 'oa_status': None, 'oa_url': None},\n",
       " 'authorships': [{'author_position': 'first',\n",
       "   'author': {'id': 'https://openalex.org/A2170896973',\n",
       "    'display_name': '良夫 上田',\n",
       "    'orcid': None},\n",
       "   'institutions': [],\n",
       "   'raw_affiliation_string': ''}],\n",
       " 'cited_by_count': 0,\n",
       " 'biblio': {'volume': '1',\n",
       "  'issue': '1',\n",
       "  'first_page': '71',\n",
       "  'last_page': '112'},\n",
       " 'is_retracted': False,\n",
       " 'is_paratext': None,\n",
       " 'concepts': [{'id': 'https://openalex.org/C41008148',\n",
       "   'wikidata': 'https://www.wikidata.org/wiki/Q21198',\n",
       "   'display_name': 'Computer science',\n",
       "   'level': 0,\n",
       "   'score': '0.28059077'}],\n",
       " 'mesh': [],\n",
       " 'alternate_host_venues': [{'id': 'https://openalex.org/V4306548549',\n",
       "   'display_name': '広島大学経済論叢',\n",
       "   'type': 'journal',\n",
       "   'url': 'http://ci.nii.ac.jp/naid/40004177303',\n",
       "   'is_oa': False,\n",
       "   'version': None,\n",
       "   'license': None}],\n",
       " 'referenced_works': [],\n",
       " 'related_works': [],\n",
       " 'ngrams_url': 'https://api.openalex.org/works/W643630100/ngrams',\n",
       " 'abstract_inverted_index': None,\n",
       " 'cited_by_api_url': 'https://api.openalex.org/works?filter=cites:W643630100',\n",
       " 'counts_by_year': [],\n",
       " 'updated_date': '2023-01-24T23:31:16.954780',\n",
       " 'created_date': '2016-06-24'}"
      ]
     },
     "execution_count": 9,
     "metadata": {},
     "output_type": "execute_result"
    }
   ],
   "source": [
    "random_work = requests.get('https://api.openalex.org/works/random').json()\n",
    "random_work"
   ]
  },
  {
   "cell_type": "code",
   "execution_count": 9,
   "metadata": {},
   "outputs": [
    {
     "name": "stdout",
     "output_type": "stream",
     "text": [
      "all IDs: {'openalex': 'https://openalex.org/W3111459389', 'doi': 'https://doi.org/10.9734/ejnfs/2020/v12i1130323', 'mag': '3111459389'}\n",
      "\n",
      "title: Effect of Hydrocolloid Carboxymethyl Cellulose (CMC) on Clarification of Bottle Gourd Juice and Its Physicochemical Properties\n",
      "\n",
      "publication_date: 2020-12-14\n",
      "\n",
      "publication_year: 2020\n",
      "\n",
      "type: journal-article\n",
      "\n",
      "DOI: https://doi.org/10.9734/ejnfs/2020/v12i1130323\n",
      "\n",
      "authorships: \n",
      "\n",
      "Author ID: https://openalex.org/A3112967578, Author name: Aafaq Ashraf\n",
      "Author ID: https://openalex.org/A2898132815, Author name: Anjum Ayoub\n",
      "Author ID: https://openalex.org/A2466489518, Author name: Ashish Dixit\n"
     ]
    }
   ],
   "source": [
    "print('all IDs: ' + str(random_work['ids']) + '\\n')\n",
    "print('title: ' + random_work['title'] + '\\n')\n",
    "print('publication_date: ' + random_work['publication_date'] + '\\n')\n",
    "print('publication_year: ' + str(random_work['publication_year']) + '\\n')\n",
    "print('type: ' + str(random_work['type']) + '\\n')\n",
    "print('DOI: ' + str(random_work['doi']) + '\\n')\n",
    "\n",
    "print('authorships: ' + '\\n')\n",
    "for a in random_work['authorships']:\n",
    "    print('Author ID: ' + a['author']['id'] + ', Author name: '  + a['author']['display_name'])    \n",
    "\n",
    "# language, Journal_ID, Conference_series_ID, Paper_ID??"
   ]
  },
  {
   "cell_type": "markdown",
   "metadata": {},
   "source": [
    "## Get single entities (Authors)\n",
    "\n",
    "- Get a random author entity by using the string random where an ID would normally go"
   ]
  },
  {
   "cell_type": "code",
   "execution_count": null,
   "metadata": {},
   "outputs": [],
   "source": []
  },
  {
   "cell_type": "markdown",
   "metadata": {},
   "source": [
    "## Get single entities (Institutions)\n",
    "\n",
    "- Get a random institution entity by using the string random where an ID would normally go"
   ]
  },
  {
   "cell_type": "code",
   "execution_count": null,
   "metadata": {},
   "outputs": [],
   "source": []
  },
  {
   "cell_type": "markdown",
   "metadata": {},
   "source": [
    "## Get single entities (concept)\n",
    "\n",
    "- Get a random institution entity by using the string random where an ID would normally go"
   ]
  },
  {
   "cell_type": "markdown",
   "metadata": {},
   "source": [
    "- Filter parameters could be formatte like : filter=attribute:value,attribute2:value2"
   ]
  },
  {
   "cell_type": "markdown",
   "metadata": {},
   "source": [
    "-  Valid fields are underscore or hyphenated versions of: ancestors.id, cited_by_count, display_name, display_name.search, from_created_date, has_wikidata, level, openalex, openalex_id, wikidata_id, works_count"
   ]
  },
  {
   "cell_type": "code",
   "execution_count": 16,
   "metadata": {},
   "outputs": [],
   "source": [
    "# get all level-0(the most general concept field) concepts(dict):\n",
    "concept = requests.get('https://api.openalex.org/concepts?filter=level:0').json()"
   ]
  },
  {
   "cell_type": "code",
   "execution_count": 19,
   "metadata": {},
   "outputs": [
    {
     "name": "stdout",
     "output_type": "stream",
     "text": [
      "Computer science\n",
      "Medicine\n",
      "Biology\n",
      "Physics\n",
      "Political science\n",
      "Chemistry\n",
      "Philosophy\n",
      "Engineering\n",
      "Mathematics\n",
      "Psychology\n",
      "Materials science\n",
      "Art\n",
      "Geography\n",
      "Business\n",
      "Sociology\n",
      "Economics\n",
      "Geology\n",
      "Environmental science\n",
      "History\n"
     ]
    }
   ],
   "source": [
    "for c in concept['results']:\n",
    "    print(c['display_name'])"
   ]
  },
  {
   "cell_type": "code",
   "execution_count": 41,
   "metadata": {},
   "outputs": [],
   "source": [
    "# seraching for name of the concept\n",
    "# concept = requests.get('https://api.openalex.org/concepts?filter=display_name.serach: XXX').json()"
   ]
  },
  {
   "cell_type": "code",
   "execution_count": 42,
   "metadata": {},
   "outputs": [],
   "source": [
    "count_100000 = requests.get('https://api.openalex.org/concepts?filter=cited_by_count:>100000').json()"
   ]
  },
  {
   "cell_type": "code",
   "execution_count": 43,
   "metadata": {},
   "outputs": [
    {
     "name": "stdout",
     "output_type": "stream",
     "text": [
      "Computer science\n",
      "Medicine\n",
      "Biology\n",
      "Physics\n",
      "Political science\n",
      "Chemistry\n",
      "Philosophy\n",
      "Engineering\n",
      "Mathematics\n",
      "Psychology\n",
      "Internal medicine\n",
      "Materials science\n",
      "Art\n",
      "Geography\n",
      "Business\n",
      "Law\n",
      "Humanities\n",
      "Sociology\n",
      "Economics\n",
      "Biochemistry\n",
      "Quantum mechanics\n",
      "Organic chemistry\n",
      "Geology\n",
      "Artificial intelligence\n",
      "Environmental science\n"
     ]
    }
   ],
   "source": [
    "for c in count_100000['results']:\n",
    "    print(c['display_name'])"
   ]
  },
  {
   "cell_type": "code",
   "execution_count": 55,
   "metadata": {},
   "outputs": [],
   "source": [
    "# sort by the number of cited in descending order that is more than 10000 works count\n",
    "concept = requests.get('https://api.openalex.org/concepts?sort=cited_by_count:desc&filter=works_count:>10000').json()"
   ]
  },
  {
   "cell_type": "code",
   "execution_count": 56,
   "metadata": {},
   "outputs": [
    {
     "name": "stdout",
     "output_type": "stream",
     "text": [
      "work count 641029721\n",
      "work count 587712919\n",
      "work count 486697108\n",
      "work count 396198935\n",
      "work count 395781657\n",
      "work count 329552988\n",
      "work count 304635693\n",
      "work count 265155760\n",
      "work count 247715898\n",
      "work count 239596030\n",
      "work count 227898042\n",
      "work count 227715284\n",
      "work count 225359664\n",
      "work count 211138614\n",
      "work count 175347931\n",
      "work count 138764512\n",
      "work count 136356503\n",
      "work count 131094180\n",
      "work count 129520564\n",
      "work count 125972072\n",
      "work count 118245242\n",
      "work count 117167586\n",
      "work count 116739217\n",
      "work count 115578423\n",
      "work count 113491889\n"
     ]
    }
   ],
   "source": [
    "for c in concept['results']:\n",
    "    print('work count', c['cited_by_count'])"
   ]
  },
  {
   "cell_type": "code",
   "execution_count": null,
   "metadata": {},
   "outputs": [],
   "source": [
    "# group the concept by their level\n",
    "concept = requests.get('https://api.openalex.org/concepts?group_by=level').json()"
   ]
  },
  {
   "cell_type": "markdown",
   "metadata": {},
   "source": [
    "## Get lists of entities\n",
    "\n",
    "- get a list of all the works in OpenAlex"
   ]
  },
  {
   "cell_type": "code",
   "execution_count": 5,
   "metadata": {},
   "outputs": [],
   "source": [
    "all_works = requests.get('https://api.openalex.org/works').json()"
   ]
  },
  {
   "cell_type": "markdown",
   "metadata": {},
   "source": [
    "### Filter"
   ]
  },
  {
   "cell_type": "code",
   "execution_count": 11,
   "metadata": {},
   "outputs": [
    {
     "data": {
      "text/html": [
       "<div>\n",
       "<style scoped>\n",
       "    .dataframe tbody tr th:only-of-type {\n",
       "        vertical-align: middle;\n",
       "    }\n",
       "\n",
       "    .dataframe tbody tr th {\n",
       "        vertical-align: top;\n",
       "    }\n",
       "\n",
       "    .dataframe thead th {\n",
       "        text-align: right;\n",
       "    }\n",
       "</style>\n",
       "<table border=\"1\" class=\"dataframe\">\n",
       "  <thead>\n",
       "    <tr style=\"text-align: right;\">\n",
       "      <th></th>\n",
       "      <th>openAlex id</th>\n",
       "      <th>title</th>\n",
       "      <th>publication_date</th>\n",
       "    </tr>\n",
       "  </thead>\n",
       "  <tbody>\n",
       "    <tr>\n",
       "      <th>0</th>\n",
       "      <td>https://openalex.org/W3103145119</td>\n",
       "      <td>SciPy 1.0: fundamental algorithms for scientif...</td>\n",
       "      <td>2019-07-23</td>\n",
       "    </tr>\n",
       "    <tr>\n",
       "      <th>1</th>\n",
       "      <td>https://openalex.org/W2963276645</td>\n",
       "      <td>Reproducible, interactive, scalable and extens...</td>\n",
       "      <td>2019-08-01</td>\n",
       "    </tr>\n",
       "    <tr>\n",
       "      <th>2</th>\n",
       "      <td>https://openalex.org/W3009335299</td>\n",
       "      <td>Structure, Function, and Antigenicity of the S...</td>\n",
       "      <td>2020-04-16</td>\n",
       "    </tr>\n",
       "    <tr>\n",
       "      <th>3</th>\n",
       "      <td>https://openalex.org/W3003465021</td>\n",
       "      <td>First Case of 2019 Novel Coronavirus in the Un...</td>\n",
       "      <td>2020-01-31</td>\n",
       "    </tr>\n",
       "    <tr>\n",
       "      <th>4</th>\n",
       "      <td>https://openalex.org/W3029661147</td>\n",
       "      <td>The mutational constraint spectrum quantified ...</td>\n",
       "      <td>2020-05-27</td>\n",
       "    </tr>\n",
       "    <tr>\n",
       "      <th>5</th>\n",
       "      <td>https://openalex.org/W2921388585</td>\n",
       "      <td>Transcatheter Aortic-Valve Replacement with a ...</td>\n",
       "      <td>2019-03-16</td>\n",
       "    </tr>\n",
       "    <tr>\n",
       "      <th>6</th>\n",
       "      <td>https://openalex.org/W3046275966</td>\n",
       "      <td>Dementia prevention, intervention, and care: 2...</td>\n",
       "      <td>2020-08-08</td>\n",
       "    </tr>\n",
       "    <tr>\n",
       "      <th>7</th>\n",
       "      <td>https://openalex.org/W3010131837</td>\n",
       "      <td>The effect of travel restrictions on the sprea...</td>\n",
       "      <td>2020-03-06</td>\n",
       "    </tr>\n",
       "    <tr>\n",
       "      <th>8</th>\n",
       "      <td>https://openalex.org/W3113178943</td>\n",
       "      <td>Global Burden of Cardiovascular Diseases and R...</td>\n",
       "      <td>2020-12-22</td>\n",
       "    </tr>\n",
       "    <tr>\n",
       "      <th>9</th>\n",
       "      <td>https://openalex.org/W2905452503</td>\n",
       "      <td>CADD: predicting the deleteriousness of varian...</td>\n",
       "      <td>2019-01-08</td>\n",
       "    </tr>\n",
       "    <tr>\n",
       "      <th>10</th>\n",
       "      <td>https://openalex.org/W2998853022</td>\n",
       "      <td>Global, regional, and national sepsis incidenc...</td>\n",
       "      <td>2020-01-18</td>\n",
       "    </tr>\n",
       "    <tr>\n",
       "      <th>11</th>\n",
       "      <td>https://openalex.org/W3011134208</td>\n",
       "      <td>SARS-CoV-2 Receptor ACE2 Is an Interferon-Stim...</td>\n",
       "      <td>2020-05-28</td>\n",
       "    </tr>\n",
       "    <tr>\n",
       "      <th>12</th>\n",
       "      <td>https://openalex.org/W3011559677</td>\n",
       "      <td>Characteristics and Outcomes of 21 Critically ...</td>\n",
       "      <td>2020-04-28</td>\n",
       "    </tr>\n",
       "    <tr>\n",
       "      <th>13</th>\n",
       "      <td>https://openalex.org/W2999615587</td>\n",
       "      <td>From local explanations to global understandin...</td>\n",
       "      <td>2020-01-17</td>\n",
       "    </tr>\n",
       "    <tr>\n",
       "      <th>14</th>\n",
       "      <td>https://openalex.org/W3038003713</td>\n",
       "      <td>Multisystem Inflammatory Syndrome in U.S. Chil...</td>\n",
       "      <td>2020-06-29</td>\n",
       "    </tr>\n",
       "    <tr>\n",
       "      <th>15</th>\n",
       "      <td>https://openalex.org/W2916020270</td>\n",
       "      <td>The single-cell transcriptional landscape of m...</td>\n",
       "      <td>2019-02-01</td>\n",
       "    </tr>\n",
       "    <tr>\n",
       "      <th>16</th>\n",
       "      <td>https://openalex.org/W2977322360</td>\n",
       "      <td>Diagnosis and Treatment of Adults with Communi...</td>\n",
       "      <td>2019-10-01</td>\n",
       "    </tr>\n",
       "    <tr>\n",
       "      <th>17</th>\n",
       "      <td>https://openalex.org/W2916252188</td>\n",
       "      <td>Pathways for practical high-energy long-cyclin...</td>\n",
       "      <td>2019-03-01</td>\n",
       "    </tr>\n",
       "    <tr>\n",
       "      <th>18</th>\n",
       "      <td>https://openalex.org/W2948261890</td>\n",
       "      <td>Clinical Targets for Continuous Glucose Monito...</td>\n",
       "      <td>2019-08-01</td>\n",
       "    </tr>\n",
       "    <tr>\n",
       "      <th>19</th>\n",
       "      <td>https://openalex.org/W3006500278</td>\n",
       "      <td>Pan-cancer analysis of whole genomes</td>\n",
       "      <td>2020-02-06</td>\n",
       "    </tr>\n",
       "    <tr>\n",
       "      <th>20</th>\n",
       "      <td>https://openalex.org/W3025744748</td>\n",
       "      <td>Cross-neutralization of SARS-CoV-2 by a human ...</td>\n",
       "      <td>2020-05-18</td>\n",
       "    </tr>\n",
       "    <tr>\n",
       "      <th>21</th>\n",
       "      <td>https://openalex.org/W3048714202</td>\n",
       "      <td>Deep Mutational Scanning of SARS-CoV-2 Recepto...</td>\n",
       "      <td>2020-09-03</td>\n",
       "    </tr>\n",
       "    <tr>\n",
       "      <th>22</th>\n",
       "      <td>https://openalex.org/W3013671288</td>\n",
       "      <td>Surviving Sepsis Campaign: guidelines on the m...</td>\n",
       "      <td>2020-03-28</td>\n",
       "    </tr>\n",
       "    <tr>\n",
       "      <th>23</th>\n",
       "      <td>https://openalex.org/W2901199346</td>\n",
       "      <td>Emerging threats and persistent conservation c...</td>\n",
       "      <td>2019-06-01</td>\n",
       "    </tr>\n",
       "    <tr>\n",
       "      <th>24</th>\n",
       "      <td>https://openalex.org/W2963627347</td>\n",
       "      <td>DeepSDF: Learning Continuous Signed Distance F...</td>\n",
       "      <td>2019-06-15</td>\n",
       "    </tr>\n",
       "  </tbody>\n",
       "</table>\n",
       "</div>"
      ],
      "text/plain": [
       "                         openAlex id  \\\n",
       "0   https://openalex.org/W3103145119   \n",
       "1   https://openalex.org/W2963276645   \n",
       "2   https://openalex.org/W3009335299   \n",
       "3   https://openalex.org/W3003465021   \n",
       "4   https://openalex.org/W3029661147   \n",
       "5   https://openalex.org/W2921388585   \n",
       "6   https://openalex.org/W3046275966   \n",
       "7   https://openalex.org/W3010131837   \n",
       "8   https://openalex.org/W3113178943   \n",
       "9   https://openalex.org/W2905452503   \n",
       "10  https://openalex.org/W2998853022   \n",
       "11  https://openalex.org/W3011134208   \n",
       "12  https://openalex.org/W3011559677   \n",
       "13  https://openalex.org/W2999615587   \n",
       "14  https://openalex.org/W3038003713   \n",
       "15  https://openalex.org/W2916020270   \n",
       "16  https://openalex.org/W2977322360   \n",
       "17  https://openalex.org/W2916252188   \n",
       "18  https://openalex.org/W2948261890   \n",
       "19  https://openalex.org/W3006500278   \n",
       "20  https://openalex.org/W3025744748   \n",
       "21  https://openalex.org/W3048714202   \n",
       "22  https://openalex.org/W3013671288   \n",
       "23  https://openalex.org/W2901199346   \n",
       "24  https://openalex.org/W2963627347   \n",
       "\n",
       "                                                title publication_date  \n",
       "0   SciPy 1.0: fundamental algorithms for scientif...       2019-07-23  \n",
       "1   Reproducible, interactive, scalable and extens...       2019-08-01  \n",
       "2   Structure, Function, and Antigenicity of the S...       2020-04-16  \n",
       "3   First Case of 2019 Novel Coronavirus in the Un...       2020-01-31  \n",
       "4   The mutational constraint spectrum quantified ...       2020-05-27  \n",
       "5   Transcatheter Aortic-Valve Replacement with a ...       2019-03-16  \n",
       "6   Dementia prevention, intervention, and care: 2...       2020-08-08  \n",
       "7   The effect of travel restrictions on the sprea...       2020-03-06  \n",
       "8   Global Burden of Cardiovascular Diseases and R...       2020-12-22  \n",
       "9   CADD: predicting the deleteriousness of varian...       2019-01-08  \n",
       "10  Global, regional, and national sepsis incidenc...       2020-01-18  \n",
       "11  SARS-CoV-2 Receptor ACE2 Is an Interferon-Stim...       2020-05-28  \n",
       "12  Characteristics and Outcomes of 21 Critically ...       2020-04-28  \n",
       "13  From local explanations to global understandin...       2020-01-17  \n",
       "14  Multisystem Inflammatory Syndrome in U.S. Chil...       2020-06-29  \n",
       "15  The single-cell transcriptional landscape of m...       2019-02-01  \n",
       "16  Diagnosis and Treatment of Adults with Communi...       2019-10-01  \n",
       "17  Pathways for practical high-energy long-cyclin...       2019-03-01  \n",
       "18  Clinical Targets for Continuous Glucose Monito...       2019-08-01  \n",
       "19               Pan-cancer analysis of whole genomes       2020-02-06  \n",
       "20  Cross-neutralization of SARS-CoV-2 by a human ...       2020-05-18  \n",
       "21  Deep Mutational Scanning of SARS-CoV-2 Recepto...       2020-09-03  \n",
       "22  Surviving Sepsis Campaign: guidelines on the m...       2020-03-28  \n",
       "23  Emerging threats and persistent conservation c...       2019-06-01  \n",
       "24  DeepSDF: Learning Continuous Signed Distance F...       2019-06-15  "
      ]
     },
     "execution_count": 11,
     "metadata": {},
     "output_type": "execute_result"
    }
   ],
   "source": [
    "# filter for all works from the University of Washington after 2019-01-01\n",
    "\n",
    "# build the 'filter' parameter\n",
    "filters = \",\".join((\n",
    "    'institutions.ror:https://ror.org/00cvxb145', \n",
    "    'from_publication_date:>2019-01-01'\n",
    "))\n",
    "\n",
    "filtered_works_url = f'https://api.openalex.org/works?filter={filters}'\n",
    "\n",
    "filtered_works = requests.get(filtered_works_url).json()\n",
    "\n",
    "rows = []\n",
    "for r in filtered_works['results']:\n",
    "    rows.append([r['id'], r['title'], r['publication_date']])\n",
    "    \n",
    "df = pd.DataFrame(rows, columns=[\"openAlex id\", \"title\", \"publication_date\"])\n",
    "df"
   ]
  },
  {
   "cell_type": "code",
   "execution_count": null,
   "metadata": {},
   "outputs": [],
   "source": []
  },
  {
   "cell_type": "code",
   "execution_count": null,
   "metadata": {},
   "outputs": [],
   "source": []
  },
  {
   "cell_type": "code",
   "execution_count": null,
   "metadata": {},
   "outputs": [],
   "source": []
  },
  {
   "cell_type": "code",
   "execution_count": null,
   "metadata": {},
   "outputs": [],
   "source": []
  }
 ],
 "metadata": {
  "kernelspec": {
   "display_name": "Python 3",
   "language": "python",
   "name": "python3"
  },
  "language_info": {
   "codemirror_mode": {
    "name": "ipython",
    "version": 3
   },
   "file_extension": ".py",
   "mimetype": "text/x-python",
   "name": "python",
   "nbconvert_exporter": "python",
   "pygments_lexer": "ipython3",
   "version": "3.8.5"
  },
  "vscode": {
   "interpreter": {
    "hash": "31f2aee4e71d21fbe5cf8b01ff0e069b9275f58929596ceb00d14d90e3e16cd6"
   }
  }
 },
 "nbformat": 4,
 "nbformat_minor": 5
}
