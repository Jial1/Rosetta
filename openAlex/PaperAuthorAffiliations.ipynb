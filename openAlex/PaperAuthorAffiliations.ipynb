{
 "cells": [
  {
   "cell_type": "code",
   "execution_count": 4,
   "id": "6e658d3a",
   "metadata": {},
   "outputs": [
    {
     "data": {
      "text/plain": [
       "200"
      ]
     },
     "execution_count": 4,
     "metadata": {},
     "output_type": "execute_result"
    }
   ],
   "source": [
    "import requests\n",
    "import pandas as pd\n",
    "import numpy as np\n",
    "\n",
    "response_API = requests.get('https://api.openalex.org')\n",
    "response_API.status_code # 200 means success"
   ]
  },
  {
   "cell_type": "code",
   "execution_count": 16,
   "id": "4360ad2b",
   "metadata": {},
   "outputs": [
    {
     "ename": "TypeError",
     "evalue": "list indices must be integers or slices, not str",
     "output_type": "error",
     "traceback": [
      "\u001b[0;31m---------------------------------------------------------------------------\u001b[0m",
      "\u001b[0;31mTypeError\u001b[0m                                 Traceback (most recent call last)",
      "Cell \u001b[0;32mIn[16], line 31\u001b[0m\n\u001b[1;32m     28\u001b[0m author_id \u001b[38;5;241m=\u001b[39m \u001b[38;5;28mint\u001b[39m(a[\u001b[38;5;124m'\u001b[39m\u001b[38;5;124mauthor\u001b[39m\u001b[38;5;124m'\u001b[39m][\u001b[38;5;124m'\u001b[39m\u001b[38;5;124mid\u001b[39m\u001b[38;5;124m'\u001b[39m]\u001b[38;5;241m.\u001b[39mrsplit(\u001b[38;5;124m'\u001b[39m\u001b[38;5;124m/A\u001b[39m\u001b[38;5;124m'\u001b[39m, \u001b[38;5;241m1\u001b[39m)[\u001b[38;5;241m-\u001b[39m\u001b[38;5;241m1\u001b[39m])\n\u001b[1;32m     30\u001b[0m \u001b[38;5;28;01mif\u001b[39;00m \u001b[38;5;124m'\u001b[39m\u001b[38;5;124minstitutions\u001b[39m\u001b[38;5;124m'\u001b[39m \u001b[38;5;129;01min\u001b[39;00m a:\n\u001b[0;32m---> 31\u001b[0m     aff_id \u001b[38;5;241m=\u001b[39m \u001b[38;5;28mint\u001b[39m(\u001b[43ma\u001b[49m\u001b[43m[\u001b[49m\u001b[38;5;124;43m'\u001b[39;49m\u001b[38;5;124;43minstitutions\u001b[39;49m\u001b[38;5;124;43m'\u001b[39;49m\u001b[43m]\u001b[49m\u001b[43m[\u001b[49m\u001b[38;5;124;43m'\u001b[39;49m\u001b[38;5;124;43mid\u001b[39;49m\u001b[38;5;124;43m'\u001b[39;49m\u001b[43m]\u001b[49m\u001b[38;5;241m.\u001b[39mrsplit(\u001b[38;5;124m'\u001b[39m\u001b[38;5;124m/I\u001b[39m\u001b[38;5;124m'\u001b[39m, \u001b[38;5;241m1\u001b[39m)[\u001b[38;5;241m-\u001b[39m\u001b[38;5;241m1\u001b[39m])\n\u001b[1;32m     32\u001b[0m \u001b[38;5;28;01melse\u001b[39;00m:\n\u001b[1;32m     33\u001b[0m     aff_id \u001b[38;5;241m=\u001b[39m np\u001b[38;5;241m.\u001b[39mnan\n",
      "\u001b[0;31mTypeError\u001b[0m: list indices must be integers or slices, not str"
     ]
    }
   ],
   "source": [
    "# PaperAuthorAffiliations\n",
    "\n",
    "\n",
    "\n",
    "\n",
    "# 333,457 affiliated works for University of Washington\n",
    "\n",
    "# https://api.openalex.org/works?filter=institutions.id:I201448701\n",
    "\n",
    "\n",
    "\n",
    "UW_works_url = \"https://api.openalex.org/works?filter=institutions.id:I201448701\"\n",
    "UW_works = requests.get(UW_works_url).json()\n",
    "\n",
    "Paper_rows = []\n",
    "PaperAuthorAffiliations_rows = []\n",
    "\n",
    "for r in UW_works['results']:\n",
    "    if 'mag' in r['ids']:\n",
    "        magid = r['ids']['mag']\n",
    "    else:\n",
    "        magid = np.nan\n",
    "\n",
    "    Paper_rows.append([magid, r['title'], r['publication_year'], \n",
    "                     r['publication_date'], r['doi'], magid, np.nan, np.nan])\n",
    "            \n",
    "    for a in r['authorships']:\n",
    "        author_id = int(a['author']['id'].rsplit('/A', 1)[-1])\n",
    "        \n",
    "        if 'institutions' in a:\n",
    "            aff_id = int(a['institutions']['id'].rsplit('/I', 1)[-1])\n",
    "        else:\n",
    "            aff_id = np.nan\n",
    "\n",
    "        PaperAuthorAffiliations_rows.append([magid, author_id, aff_id,\n",
    "                     a['institutions']['display_name'], a['institutions']['country_code'],\n",
    "                     a['author_position'], a['author']['display_name']])\n",
    "    \n",
    "PaperAuthorAffiliations_df = pd.DataFrame(PaperAuthorAffiliations_rows, \n",
    "                                          columns=[\"Paper_id\", \"Author_ID\", \"Affiliation_ID\", \n",
    "                                          \"Affiliation_name\", \"Country_code\", \n",
    "                                          \"Author_sequence_number\", \"Author_name\"])\n",
    "Paper_df = pd.DataFrame(paper_rows, \n",
    "                        columns=[\"Paper_id\", \"title\", \"publication_year\", \n",
    "                                    \"publication_date\", \"DOI\", \"Journal_ID\",\n",
    "                                    \"Conference_series_ID\", \"language\"])"
   ]
  },
  {
   "cell_type": "code",
   "execution_count": null,
   "id": "bedef9c4",
   "metadata": {},
   "outputs": [],
   "source": [
    "Paper_df"
   ]
  },
  {
   "cell_type": "code",
   "execution_count": null,
   "id": "d941d94b",
   "metadata": {},
   "outputs": [],
   "source": [
    "PaperAuthorAffiliations_df"
   ]
  },
  {
   "cell_type": "code",
   "execution_count": null,
   "id": "b135d07c",
   "metadata": {},
   "outputs": [],
   "source": [
    "UW_works_url_with_cursor = 'https://api.openalex.org/works?filter=institutions.id:I201448701&cursor={}'\n",
    "\n",
    "\n",
    "cursor = '*'\n",
    "\n",
    "count = 1\n",
    "\n",
    "# loop through pages\n",
    "while cursor:\n",
    "    UW_works_url = UW_works_url_with_cursor.format(cursor)\n",
    "    print(\"\\n\" + count + \": \" + UW_works_url)\n",
    "\n",
    "    UW_works = requests.get(UW_works_url).json()\n",
    "        \n",
    "    paper_rows = []\n",
    "    PaperAuthorAffiliations_rows = []\n",
    "\n",
    "    for r in UW_works['results']:\n",
    "        \n",
    "        if 'mag' in r['ids']:\n",
    "            magid = r['ids']['mag']\n",
    "        else:\n",
    "            magid = np.nan\n",
    "            \n",
    "        \n",
    "        \n",
    "        paper_rows.append([magid, r['title'], r['publication_year'], \n",
    "                          r['publication_date'], r['doi'], magid, np.nan, np.nan])\n",
    "        \n",
    "        PaperAuthorAffiliations_rows.append([magid, ])\n",
    "\n",
    "    # update cursor to meta.next_cursor\n",
    "    cursor = UW_works['meta']['next_cursor']\n",
    "    \n",
    "    count += 1\n",
    "    \n",
    "\n",
    "    \n",
    "\n",
    "Paper_df = pd.DataFrame(paper_rows, \n",
    "                           columns=[\"Paper_id\", \"title\", \"publication_year\", \n",
    "                                    \"publication_date\", \"DOI\", \"Journal_ID\",\n",
    "                                    \"Conference_series_ID\", \"language\"])\n",
    "Paper_df\n",
    "\n",
    "\n"
   ]
  }
 ],
 "metadata": {
  "kernelspec": {
   "display_name": "Python 3 (ipykernel)",
   "language": "python",
   "name": "python3"
  },
  "language_info": {
   "codemirror_mode": {
    "name": "ipython",
    "version": 3
   },
   "file_extension": ".py",
   "mimetype": "text/x-python",
   "name": "python",
   "nbconvert_exporter": "python",
   "pygments_lexer": "ipython3",
   "version": "3.10.9"
  }
 },
 "nbformat": 4,
 "nbformat_minor": 5
}
